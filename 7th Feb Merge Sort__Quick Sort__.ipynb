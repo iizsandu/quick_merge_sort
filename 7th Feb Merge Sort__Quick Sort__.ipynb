{
 "cells": [
  {
   "cell_type": "code",
   "execution_count": 1,
   "id": "48244d48",
   "metadata": {},
   "outputs": [
    {
     "data": {
      "text/plain": [
       "[5, 6, 7, 11, 12, 13]"
      ]
     },
     "execution_count": 1,
     "metadata": {},
     "output_type": "execute_result"
    }
   ],
   "source": [
    "def mergeSort(arr):\n",
    "    \n",
    "    #base case\n",
    "    if len(arr)<=1:\n",
    "        return\n",
    "    \n",
    "    #divide into two parts\n",
    "    mid = len(arr)//2\n",
    "    \n",
    "    #left half of the arr\n",
    "    left = arr[:mid]\n",
    "    \n",
    "    #right half of the arr\n",
    "    right = arr[mid:]\n",
    "    \n",
    "    #sort the left part\n",
    "    mergeSort(left)\n",
    "    \n",
    "    #sort the right part\n",
    "    mergeSort(right)\n",
    "    \n",
    "    # logic to merge both sorted left and right\n",
    "    merge(left,right,arr)\n",
    "    \n",
    "def merge(left, right, arr):\n",
    "    i=0 #index of left array\n",
    "    j=0 #index of right array\n",
    "    k=0 #index of the result array\n",
    "    \n",
    "    while i<len(left) and j<len(right):\n",
    "        if (left[i]<=right[j]):\n",
    "            arr[k]=left[i]\n",
    "            i+=1\n",
    "        else:\n",
    "            arr[k]=right[j]\n",
    "            j+=1\n",
    "        k+=1\n",
    "        \n",
    "    #check if any element is left in left array\n",
    "    while i<len(left):\n",
    "        arr[k]=left[i]\n",
    "        i+=1\n",
    "        k+=1\n",
    "        \n",
    "    #check if any element is left in left array\n",
    "    while j<len(right):\n",
    "        arr[k]=right[j]\n",
    "        j+=1\n",
    "        k+=1\n",
    "        \n",
    "l1 = [12,11,13,5,6,7]\n",
    "mergeSort(l1)\n",
    "l1\n",
    "        "
   ]
  },
  {
   "cell_type": "code",
   "execution_count": 3,
   "id": "035ff473",
   "metadata": {},
   "outputs": [
    {
     "data": {
      "text/plain": [
       "[5, 6, 7, 11, 12, 13]"
      ]
     },
     "execution_count": 3,
     "metadata": {},
     "output_type": "execute_result"
    }
   ],
   "source": [
    "def quickSort(arr,low,high): # array will get sorted between low index to high index\n",
    "    # base codition\n",
    "    if low>=high:\n",
    "        return\n",
    "    \n",
    "    #find the pivot point and rearrange the array around it\n",
    "    pi = partition(arr,low,high)\n",
    "    \n",
    "    #left of pi will be all small and right of pi will be all big\n",
    "    \n",
    "    #sort the left part\n",
    "    quickSort(arr,low,pi-1) #since pi is our pivot element, it will be our new high\n",
    "    \n",
    "    #sort the right part\n",
    "    quickSort(arr,pi+1,high)\n",
    "    \n",
    "def partition(arr, low, high):\n",
    "    #we choose right most element as a pivot element\n",
    "    pivot = arr[high]\n",
    "    \n",
    "    #traverse through the entire array and keep comparing the elements with the pivot element\n",
    "    i=low-1\n",
    "    for j in range(low,high):\n",
    "        if (arr[j]<=pivot):\n",
    "            #set it in the left part of the array\n",
    "            i+=1\n",
    "            \n",
    "            #swap arr[j] and arr[i] index elemetns\n",
    "            arr[i],arr[j] = arr[j],arr[i]\n",
    "            \n",
    "    #swap the pivot element with the next greater element i\n",
    "    arr[i+1],arr[high] = arr[high],arr[i+1]\n",
    "        \n",
    "    return i+1\n",
    "\n",
    "l1 = [12,11,13,5,6,7]\n",
    "quickSort(l1,0,5)\n",
    "l1\n",
    "   "
   ]
  },
  {
   "cell_type": "code",
   "execution_count": null,
   "id": "3927cdae",
   "metadata": {},
   "outputs": [],
   "source": []
  }
 ],
 "metadata": {
  "kernelspec": {
   "display_name": "Python 3 (ipykernel)",
   "language": "python",
   "name": "python3"
  },
  "language_info": {
   "codemirror_mode": {
    "name": "ipython",
    "version": 3
   },
   "file_extension": ".py",
   "mimetype": "text/x-python",
   "name": "python",
   "nbconvert_exporter": "python",
   "pygments_lexer": "ipython3",
   "version": "3.9.7"
  }
 },
 "nbformat": 4,
 "nbformat_minor": 5
}
